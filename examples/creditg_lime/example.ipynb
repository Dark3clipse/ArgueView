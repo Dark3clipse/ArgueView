{
 "cells": [
  {
   "cell_type": "markdown",
   "metadata": {
    "collapsed": true,
    "pycharm": {
     "name": "#%% md\n"
    }
   },
   "source": [
    "# GreditG ArgueView Example\n",
    "\n",
    "This example showcases the use of ArgueView in a realistic usage scenario. We will use the \n",
    "following tools:\n",
    "- [CreditG dataset](https://www.openml.org/d/31)\n",
    "- scikit-learn's RandomForest classifier\n",
    "- [LIME](https://github.com/marcotcr/lime)'s black-box explainer\n",
    "\n",
    "![Procedure visualization](https://github.com/sophiahadash/argueview/blob/master/screenshots/model.png?raw=true)"
   ]
  },
  {
   "cell_type": "code",
   "execution_count": 137,
   "outputs": [],
   "source": [
    "import json\n",
    "import os\n",
    "import lime\n",
    "import lime.lime_tabular\n",
    "import numpy as np\n",
    "import openml as oml\n",
    "import pandas as pd\n",
    "import requests\n",
    "from openml import OpenMLDataset\n",
    "import settings\n",
    "from typing import List, Tuple\n",
    "from sklearn.compose import ColumnTransformer\n",
    "from sklearn.ensemble import *\n",
    "from sklearn.model_selection import *\n",
    "from sklearn.pipeline import Pipeline\n",
    "from sklearn.preprocessing import *\n",
    "from argueview.typings import Source, OpenMLFeatureData, Case, CaseSource, CaseFeature\n",
    "from examples.Dataset import Dataset\n",
    "from argueview import *"
   ],
   "metadata": {
    "collapsed": false,
    "pycharm": {
     "name": "#%%\n",
     "is_executing": false
    }
   }
  },
  {
   "cell_type": "markdown",
   "source": [
    "## The data\n",
    "\n",
    "The [CreditG dataset](https://www.openml.org/d/31) is a dataset from 1994 of loan applications in \n",
    "Germany. It classifies people described by a set of attributes as good or bad credit risks. The\n",
    "dataset contains 1000 observations, 2 classes (loan eligible / loan ineligible), and 20 features."
   ],
   "metadata": {
    "collapsed": false
   }
  },
  {
   "cell_type": "markdown",
   "source": [
    "### Loading the dataset\n",
    "Let's start by loading the dataset. First, we need to specify our OpenML API key. You can store\n",
    "the key in your `.env` file or directly set the key in this notebook."
   ],
   "metadata": {
    "collapsed": false,
    "pycharm": {
     "name": "#%% md\n"
    }
   }
  },
  {
   "cell_type": "code",
   "execution_count": 138,
   "outputs": [],
   "source": [
    "oml.config.apikey = os.getenv('OML_APIKEY')"
   ],
   "metadata": {
    "collapsed": false,
    "pycharm": {
     "name": "#%%\n",
     "is_executing": false
    }
   }
  },
  {
   "cell_type": "markdown",
   "source": [
    "Then we download the dataset from the OpenML server."
   ],
   "metadata": {
    "collapsed": false,
    "pycharm": {
     "name": "#%% md\n"
    }
   }
  },
  {
   "cell_type": "code",
   "execution_count": 139,
   "outputs": [],
   "source": [
    "# CreditG OpenML identifier\n",
    "dset = 31\n",
    "\n",
    "# Download credit-g data\n",
    "D: OpenMLDataset = oml.datasets.get_dataset(dset)\n",
    "\n",
    "# extract data\n",
    "X, y, C, F = D.get_data(target=D.default_target_attribute, dataset_format='array')\n",
    "y_labels = D.retrieve_class_labels()"
   ],
   "metadata": {
    "collapsed": false,
    "pycharm": {
     "name": "#%%\n",
     "is_executing": false
    }
   }
  },
  {
   "cell_type": "markdown",
   "source": [
    "We split the data in a training and test set."
   ],
   "metadata": {
    "collapsed": false,
    "pycharm": {
     "name": "#%% md\n"
    }
   }
  },
  {
   "cell_type": "code",
   "execution_count": 140,
   "outputs": [],
   "source": [
    "X_train, X_test, y_train, y_test = train_test_split(X, y, random_state=0, test_size=1/7)"
   ],
   "metadata": {
    "collapsed": false,
    "pycharm": {
     "name": "#%%\n",
     "is_executing": false
    }
   }
  },
  {
   "cell_type": "markdown",
   "source": [
    "The OpenML `get_data` method retrieves the CreditG dataset, but does not download descriptive \n",
    "information about the features. We would like to have these descriptives later on in the\n",
    "example, so we download them here."
   ],
   "metadata": {
    "collapsed": false,
    "pycharm": {
     "name": "#%% md\n"
    }
   }
  },
  {
   "cell_type": "code",
   "execution_count": 141,
   "outputs": [
    {
     "name": "stdout",
     "text": [
      "[\n   {\n      \"index\": \"0\",\n      \"name\": \"checking_status\",\n      \"data_type\": \"nominal\",\n      \"nominal_value\": [\n         \"<0\",\n         \"0<=X<200\",\n         \">=200\",\n         \"no checking\"\n      ],\n      \"is_target\": \"false\",\n      \"is_ignore\": \"false\",\n      \"is_row_identifier\": \"false\",\n      \"number_of_missing_values\": \"0\"\n   },\n   {\n      \"index\": \"1\",\n      \"name\": \"duration\",\n      \"data_type\": \"numeric\",\n      \"is_target\": \"false\",\n      \"is_ignore\": \"false\",\n      \"is_row_identifier\": \"false\",\n      \"number_of_missing_values\": \"0\"\n   },\n   {\n      \"index\": \"2\",\n      \"name\": \"credit_history\",\n      \"data_type\": \"nominal\",\n      \"nominal_value\": [\n         \"no credits/all paid\",\n         \"all paid\",\n         \"existing paid\",\n         \"delayed previously\",\n         \"critical/other existing credit\"\n      ],\n      \"is_target\": \"false\",\n      \"is_ignore\": \"false\",\n      \"is_row_identifier\": \"false\",\n      \"number_of_missing_values\": \"0\"\n   },\n   {\n      \"index\": \"3\",\n      \"name\": \"purpose\",\n      \"data_type\": \"nominal\",\n      \"nominal_value\": [\n         \"new car\",\n         \"used car\",\n         \"furniture/equipment\",\n         \"radio/tv\",\n         \"domestic appliance\",\n         \"repairs\",\n         \"education\",\n         \"vacation\",\n         \"retraining\",\n         \"business\",\n         \"other\"\n      ],\n      \"is_target\": \"false\",\n      \"is_ignore\": \"false\",\n      \"is_row_identifier\": \"false\",\n      \"number_of_missing_values\": \"0\"\n   },\n   {\n      \"index\": \"4\",\n      \"name\": \"credit_amount\",\n      \"data_type\": \"numeric\",\n      \"is_target\": \"false\",\n      \"is_ignore\": \"false\",\n      \"is_row_identifier\": \"false\",\n      \"number_of_missing_values\": \"0\"\n   },\n   {\n      \"index\": \"5\",\n      \"name\": \"savings_status\",\n      \"data_type\": \"nominal\",\n      \"nominal_value\": [\n         \"<100\",\n         \"100<=X<500\",\n         \"500<=X<1000\",\n         \">=1000\",\n         \"no known savings\"\n      ],\n      \"is_target\": \"false\",\n      \"is_ignore\": \"false\",\n      \"is_row_identifier\": \"false\",\n      \"number_of_missing_values\": \"0\"\n   },\n   {\n      \"index\": \"6\",\n      \"name\": \"employment\",\n      \"data_type\": \"nominal\",\n      \"nominal_value\": [\n         \"unemployed\",\n         \"<1\",\n         \"1<=X<4\",\n         \"4<=X<7\",\n         \">=7\"\n      ],\n      \"is_target\": \"false\",\n      \"is_ignore\": \"false\",\n      \"is_row_identifier\": \"false\",\n      \"number_of_missing_values\": \"0\"\n   },\n   {\n      \"index\": \"7\",\n      \"name\": \"installment_commitment\",\n      \"data_type\": \"numeric\",\n      \"is_target\": \"false\",\n      \"is_ignore\": \"false\",\n      \"is_row_identifier\": \"false\",\n      \"number_of_missing_values\": \"0\"\n   },\n   {\n      \"index\": \"8\",\n      \"name\": \"personal_status\",\n      \"data_type\": \"nominal\",\n      \"nominal_value\": [\n         \"male div/sep\",\n         \"female div/dep/mar\",\n         \"male single\",\n         \"male mar/wid\",\n         \"female single\"\n      ],\n      \"is_target\": \"false\",\n      \"is_ignore\": \"false\",\n      \"is_row_identifier\": \"false\",\n      \"number_of_missing_values\": \"0\"\n   },\n   {\n      \"index\": \"9\",\n      \"name\": \"other_parties\",\n      \"data_type\": \"nominal\",\n      \"nominal_value\": [\n         \"none\",\n         \"co applicant\",\n         \"guarantor\"\n      ],\n      \"is_target\": \"false\",\n      \"is_ignore\": \"false\",\n      \"is_row_identifier\": \"false\",\n      \"number_of_missing_values\": \"0\"\n   },\n   {\n      \"index\": \"10\",\n      \"name\": \"residence_since\",\n      \"data_type\": \"numeric\",\n      \"is_target\": \"false\",\n      \"is_ignore\": \"false\",\n      \"is_row_identifier\": \"false\",\n      \"number_of_missing_values\": \"0\"\n   },\n   {\n      \"index\": \"11\",\n      \"name\": \"property_magnitude\",\n      \"data_type\": \"nominal\",\n      \"nominal_value\": [\n         \"real estate\",\n         \"life insurance\",\n         \"car\",\n         \"no known property\"\n      ],\n      \"is_target\": \"false\",\n      \"is_ignore\": \"false\",\n      \"is_row_identifier\": \"false\",\n      \"number_of_missing_values\": \"0\"\n   },\n   {\n      \"index\": \"12\",\n      \"name\": \"age\",\n      \"data_type\": \"numeric\",\n      \"is_target\": \"false\",\n      \"is_ignore\": \"false\",\n      \"is_row_identifier\": \"false\",\n      \"number_of_missing_values\": \"0\"\n   },\n   {\n      \"index\": \"13\",\n      \"name\": \"other_payment_plans\",\n      \"data_type\": \"nominal\",\n      \"nominal_value\": [\n         \"bank\",\n         \"stores\",\n         \"none\"\n      ],\n      \"is_target\": \"false\",\n      \"is_ignore\": \"false\",\n      \"is_row_identifier\": \"false\",\n      \"number_of_missing_values\": \"0\"\n   },\n   {\n      \"index\": \"14\",\n      \"name\": \"housing\",\n      \"data_type\": \"nominal\",\n      \"nominal_value\": [\n         \"rent\",\n         \"own\",\n         \"for free\"\n      ],\n      \"is_target\": \"false\",\n      \"is_ignore\": \"false\",\n      \"is_row_identifier\": \"false\",\n      \"number_of_missing_values\": \"0\"\n   },\n   {\n      \"index\": \"15\",\n      \"name\": \"existing_credits\",\n      \"data_type\": \"numeric\",\n      \"is_target\": \"false\",\n      \"is_ignore\": \"false\",\n      \"is_row_identifier\": \"false\",\n      \"number_of_missing_values\": \"0\"\n   },\n   {\n      \"index\": \"16\",\n      \"name\": \"job\",\n      \"data_type\": \"nominal\",\n      \"nominal_value\": [\n         \"unemp/unskilled non res\",\n         \"unskilled resident\",\n         \"skilled\",\n         \"high qualif/self emp/mgmt\"\n      ],\n      \"is_target\": \"false\",\n      \"is_ignore\": \"false\",\n      \"is_row_identifier\": \"false\",\n      \"number_of_missing_values\": \"0\"\n   },\n   {\n      \"index\": \"17\",\n      \"name\": \"num_dependents\",\n      \"data_type\": \"numeric\",\n      \"is_target\": \"false\",\n      \"is_ignore\": \"false\",\n      \"is_row_identifier\": \"false\",\n      \"number_of_missing_values\": \"0\"\n   },\n   {\n      \"index\": \"18\",\n      \"name\": \"own_telephone\",\n      \"data_type\": \"nominal\",\n      \"nominal_value\": [\n         \"none\",\n         \"yes\"\n      ],\n      \"is_target\": \"false\",\n      \"is_ignore\": \"false\",\n      \"is_row_identifier\": \"false\",\n      \"number_of_missing_values\": \"0\"\n   },\n   {\n      \"index\": \"19\",\n      \"name\": \"foreign_worker\",\n      \"data_type\": \"nominal\",\n      \"nominal_value\": [\n         \"yes\",\n         \"no\"\n      ],\n      \"is_target\": \"false\",\n      \"is_ignore\": \"false\",\n      \"is_row_identifier\": \"false\",\n      \"number_of_missing_values\": \"0\"\n   },\n   {\n      \"index\": \"20\",\n      \"name\": \"class\",\n      \"data_type\": \"nominal\",\n      \"nominal_value\": [\n         \"good\",\n         \"bad\"\n      ],\n      \"is_target\": \"true\",\n      \"is_ignore\": \"false\",\n      \"is_row_identifier\": \"false\",\n      \"number_of_missing_values\": \"0\"\n   }\n]\n"
     ],
     "output_type": "stream"
    },
    {
     "name": "stderr",
     "text": [
      "/home/shadash/.local/share/virtualenvs/ArgueView-PiOJAf3v/lib/python3.8/site-packages/urllib3/connectionpool.py:981: InsecureRequestWarning: Unverified HTTPS request is being made to host 'www.openml.org'. Adding certificate verification is strongly advised. See: https://urllib3.readthedocs.io/en/latest/advanced-usage.html#ssl-warnings\n  warnings.warn(\n"
     ],
     "output_type": "stream"
    }
   ],
   "source": [
    "def openml_get_data_features(dataset_id: int) -> any:\n",
    "\tendpoint = \"https://www.openml.org/api/v1/json/data/features/\" + str(\n",
    "\t\tdataset_id) + \"?api_key=\" + oml.config.apikey\n",
    "\theaders = {'content-type': 'application/json', 'Accept-Charset': 'UTF-8'}\n",
    "\tr = requests.get(endpoint, headers=headers, verify=False)\n",
    "\tif r.status_code == 200:\n",
    "\t\tloads = json.loads(r.text)\n",
    "\t\treturn loads\n",
    "\telse:\n",
    "\t\treturn \"\"\n",
    "rt = openml_get_data_features(dset)\n",
    "dfeature = OpenMLFeatureData(rt['data_features'])\n",
    "print(json.dumps(dfeature.feature, indent = 3))\n",
    "\t"
   ],
   "metadata": {
    "collapsed": false,
    "pycharm": {
     "name": "#%%\n",
     "is_executing": false
    }
   }
  },
  {
   "cell_type": "markdown",
   "source": [
    "Unfortunately the dataset's wiki page contains feature descriptions that are not included\n",
    "in the feature data. Let's add them manually for completeness:\n",
    "\t\t"
   ],
   "metadata": {
    "collapsed": false,
    "pycharm": {
     "name": "#%% md\n"
    }
   }
  },
  {
   "cell_type": "code",
   "execution_count": 142,
   "outputs": [],
   "source": [
    "d = dfeature.feature\n",
    "d[0][\"description\"] = \"Status of existing checking account, in Deutsche Mark.\"\n",
    "d[1][\"description\"] = \"Duration in months\"\n",
    "d[2][\"description\"] = \"Credit history (credits taken, paid back duly, delays, critical accounts)\"\n",
    "d[3][\"description\"] = \"Purpose of the credit (car, television,...)\"\n",
    "d[4][\"description\"] = \"Credit amount\"\n",
    "d[5][\"description\"] = \"Status of savings account/bonds, in Deutsche Mark.\"\n",
    "d[6][\"description\"] = \"Present employment, in number of years.\"\n",
    "d[7][\"description\"] = \"Installment rate in percentage of disposable income\"\n",
    "d[8][\"description\"] = \"Personal status (married, single,...) and sex\"\n",
    "d[9][\"description\"] = \"Other debtors / guarantors\"\n",
    "d[10][\"description\"] = \"Present residence since X years\"\n",
    "d[11][\"description\"] = \"Property (e.g. real estate)\"\n",
    "d[12][\"description\"] = \"Age in years\"\n",
    "d[13][\"description\"] = \"Other installment plans (banks, stores)\"\n",
    "d[14][\"description\"] = \"Housing (rent, own,...)\"\n",
    "d[15][\"description\"] = \"Number of existing credits at this bank\"\n",
    "d[16][\"description\"] = \"Job\"\n",
    "d[17][\"description\"] = \"Number of people being liable to provide maintenance for\"\n",
    "d[18][\"description\"] = \"Telephone (yes,no)\"\n",
    "d[19][\"description\"] = \"Foreign worker (yes,no)\""
   ],
   "metadata": {
    "collapsed": false,
    "pycharm": {
     "name": "#%%\n",
     "is_executing": false
    }
   }
  },
  {
   "cell_type": "markdown",
   "source": [
    "Finally we store the all data in a data holder class."
   ],
   "metadata": {
    "collapsed": false,
    "pycharm": {
     "name": "#%% md\n"
    }
   }
  },
  {
   "cell_type": "code",
   "execution_count": 143,
   "outputs": [],
   "source": [
    "dataset = Dataset(D, X, y, C, F, y_labels, X_train, y_train, X_test, y_test, dfeature)"
   ],
   "metadata": {
    "collapsed": false,
    "pycharm": {
     "name": "#%% \t\n",
     "is_executing": false
    }
   }
  },
  {
   "cell_type": "markdown",
   "source": [
    "## The model\n",
    "The next step is to fit a machine-learning model on the data. In this example we use scikit-learn's\n",
    "RandomForest classifier. Since we use black-box explainer LIME it does not matter which model we use."
   ],
   "metadata": {
    "collapsed": false,
    "pycharm": {
     "name": "#%% md\n"
    }
   }
  },
  {
   "cell_type": "code",
   "execution_count": 144,
   "outputs": [
    {
     "name": "stdout",
     "text": [
      "Predictive accuracy: 0.74\nClassification report for classifier Pipeline(steps=[('preprocessor',\n                 ColumnTransformer(transformers=[('cat',\n                                                  Pipeline(steps=[('onehot',\n                                                                   OneHotEncoder(handle_unknown='ignore'))]),\n                                                  [True, False, True, True,\n                                                   False, True, True, False,\n                                                   True, True, False, True,\n                                                   False, True, True, False,\n                                                   True, False, True,\n                                                   True])])),\n                ('classifier',\n                 RandomForestClassifier(max_depth=10, max_features=15,\n                                        max_leaf_nodes=16, n_estimators=250,\n                                        n_jobs=-1))]):\n              precision    recall  f1-score   support\n\n           0       0.80      0.88      0.84       108\n           1       0.46      0.31      0.37        35\n\n    accuracy                           0.74       143\n   macro avg       0.63      0.60      0.60       143\nweighted avg       0.72      0.74      0.72       143\n\n\nConfusion matrix:\n[[95 13]\n [24 11]]\n"
     ],
     "output_type": "stream"
    }
   ],
   "source": [
    "# define pipeline\n",
    "categorical_transformer = Pipeline(steps=[\n",
    "\t('onehot', OneHotEncoder(handle_unknown='ignore'))\n",
    "])\n",
    "preprocessor = ColumnTransformer(\n",
    "\ttransformers=[\n",
    "\t\t('cat', categorical_transformer, dataset.C)\n",
    "\t]\n",
    ")\n",
    "rf = RandomForestClassifier(n_estimators=250, max_features=15, max_depth=10, max_leaf_nodes=16, n_jobs=-1)\n",
    "pipe = Pipeline(steps=[('preprocessor', preprocessor),\n",
    "\t\t\t\t\t ('classifier', rf)])\n",
    "\n",
    "# fit pipeline\n",
    "pipe.fit(dataset.X_train, dataset.y_train)\n",
    "\n",
    "# store results\n",
    "y_pred = pipe.predict(dataset.X_test)\n",
    "dataset.setModel(pipe, y_pred)\n",
    "\n",
    "# print metrics\n",
    "dataset.printMetrics()"
   ],
   "metadata": {
    "collapsed": false,
    "pycharm": {
     "name": "#%%\n",
     "is_executing": false
    }
   }
  },
  {
   "cell_type": "markdown",
   "source": [
    "## Explanation case\n",
    "\n",
    "Let's pick a case that we want to explain. We pick a random case:"
   ],
   "metadata": {
    "collapsed": false,
    "pycharm": {
     "name": "#%% md\n"
    }
   }
  },
  {
   "cell_type": "code",
   "execution_count": 145,
   "outputs": [
    {
     "name": "stdout",
     "text": [
      "case id: 137\nlabel: good\nprediction: good\nfeatures:\n                        values\nchecking_status            3.0\nduration                  12.0\ncredit_history             2.0\npurpose                    3.0\ncredit_amount           3059.0\nsavings_status             3.0\nemployment                 3.0\ninstallment_commitment     2.0\npersonal_status            0.0\nother_parties              0.0\nresidence_since            4.0\nproperty_magnitude         0.0\nage                       61.0\nother_payment_plans        2.0\nhousing                    1.0\nexisting_credits           1.0\njob                        1.0\nnum_dependents             1.0\nown_telephone              0.0\nforeign_worker             0.0\n"
     ],
     "output_type": "stream"
    }
   ],
   "source": [
    "def pickCase() -> int:\n",
    "\treturn np.random.randint(0, dataset.y_test.shape[0])\n",
    "\n",
    "def printCase(case_id: int) -> None:\n",
    "\tprint(\"case id: \" + str(case_id))\n",
    "\tprint(\"label:\", dataset.y_labels[dataset.y_test[case_id]])\n",
    "\tprint(\"prediction:\", dataset.y_labels[dataset.y_pred[case_id]])\n",
    "\tprint(\"features:\")\n",
    "\tdf = pd.DataFrame(data=dataset.X_test[case_id], index=dataset.F, columns=['values'])\n",
    "\tprint(df)\n",
    "\t\n",
    "case_id = 137 #pickCase()\n",
    "case = Case({\n",
    "\t\"class_proba\": dataset.m.predict_proba(dataset.X_test)[case_id].tolist(),\n",
    "\t\"sources\": [CaseSource({\n",
    "\t\t\"features\": list(map(lambda x: CaseFeature({\"value\": x}), dataset.X_test[case_id].tolist()))\n",
    "\t})]\n",
    "})\n",
    "printCase(case_id)"
   ],
   "metadata": {
    "collapsed": false,
    "pycharm": {
     "name": "#%% \n",
     "is_executing": false
    }
   }
  },
  {
   "cell_type": "markdown",
   "source": [
    "## Run LIME Explainer\n",
    "\n",
    "Now that we have picked a case we can run [LIME](https://github.com/marcotcr/lime) to generate\n",
    "feature-importance weights."
   ],
   "metadata": {
    "collapsed": false,
    "pycharm": {
     "name": "#%% md\n"
    }
   }
  },
  {
   "cell_type": "code",
   "execution_count": 146,
   "outputs": [
    {
     "data": {
      "text/plain": "<Figure size 432x288 with 1 Axes>",
      "image/png": "[encoded data removed]"
     },
     "metadata": {
      "needs_background": "light"
     },
     "output_type": "display_data"
    }
   ],
   "source": [
    "explainer = lime.lime_tabular.LimeTabularExplainer(dataset.X_train,\n",
    "\t\t\t\t\t\t\t\t\t\t\t\t   feature_names=dataset.F,\n",
    "\t\t\t\t\t\t\t\t\t\t\t\t   class_names=dataset.y_labels,\n",
    "\t\t\t\t\t\t\t\t\t\t\t\t   discretize_continuous=True)\n",
    "\n",
    "# generate explanation\n",
    "exp = explainer.explain_instance(dataset.X_test[case_id],\n",
    "\t\t\t\t\t\t\t\t dataset.m.predict_proba,\n",
    "\t\t\t\t\t\t\t\t num_features=len(dataset.F))\n",
    "\n",
    "# save\n",
    "exp.as_pyplot_figure()\n",
    "\n",
    "# save as feature_importance map\n",
    "feature_importance = exp.as_map()"
   ],
   "metadata": {
    "collapsed": false,
    "pycharm": {
     "name": "#%%\n",
     "is_executing": false
    }
   }
  },
  {
   "cell_type": "markdown",
   "source": [
    "## Build ArgueView model\n",
    "After we successfully obtained feature importance we can start to build the argueview explanation\n",
    "model. ArgueView is primarily a text-based explanation presentation tool. It's focus lies on\n",
    "explaining decisions to end-users or laymen. Therefore, ArgueView relies heavily on textual input.\n",
    "\n",
    "ArgueView contains a set of input methods to help you define text-based explanations for each case\n",
    "scenario. In the current section we will illustrate how to build a text-based explanation model\n",
    "for the CreditG dataset we use throughout this example.\n",
    "\n",
    "### Toulmin's model of argumentation\n",
    "ArgueView's explanation model is inspired by [Toulmin's model of argumentation](https://owl.purdue.edu/owl/general_writing/academic_writing/historical_perspectives_on_argumentation/toulmin_argument.html) \n",
    "(see van Eemeren, 2014). The following figure illustrates a possible model.\n",
    "\n",
    "![CreditG Toulmin model](https://github.com/sophiahadash/argueview/blob/master/screenshots/toulmin-creditg.png?raw=true)\n",
    "\n",
    "<sup>van Eemeren, F. H., Garssen, B., Krabbe, E. C. W., Snoeck Henkemans, A. F., Verheij, B., & Wagemans, J. H. M. (2014). Handbook of Argumentation Theory. https://doi.org/10.1007/978-90-481-9473-5</sup>"
   ],
   "metadata": {
    "collapsed": false,
    "pycharm": {
     "name": "#%% md\n"
    }
   }
  },
  {
   "cell_type": "code",
   "execution_count": 147,
   "outputs": [],
   "source": [
    "argView = ArgueView()"
   ],
   "metadata": {
    "collapsed": false,
    "pycharm": {
     "name": "#%%\n",
     "is_executing": false
    }
   }
  },
  {
   "cell_type": "markdown",
   "source": [
    "### Define classes\n",
    "First, we have to define textual representations of our classes. Try to use names that are not \n",
    "too abstract."
   ],
   "metadata": {
    "collapsed": false,
    "pycharm": {
     "name": "#%% md\n"
    }
   }
  },
  {
   "cell_type": "code",
   "execution_count": 148,
   "outputs": [],
   "source": [
    "argView.classes([\"You are applicable for a loan.\", \"You are not applicable for a loan.\"])"
   ],
   "metadata": {
    "collapsed": false,
    "pycharm": {
     "name": "#%%\n",
     "is_executing": false
    }
   }
  },
  {
   "cell_type": "markdown",
   "source": [
    "### Define backing\n",
    "Next, we define a backing. A backing should include why someone should trust your explanation. It can\n",
    "contain descriptions of model accuracy, organizational credibility, or data credibility."
   ],
   "metadata": {
    "collapsed": false,
    "pycharm": {
     "name": "#%% md\n"
    }
   }
  },
  {
   "cell_type": "code",
   "execution_count": 149,
   "outputs": [],
   "source": [
    "argView.backing(\"This decision is supported by Jheronimus Academy of Data Science, who have employed the automatic decision-making model RF-LOAN. This model is correct for 73% or the cases and is based on the German Credit dataset. This dataset is collected in 1994 by Dr. Hans Hofmann of Universität Hamburg, Institut für Statistik und Ökonometrie. The RF-LOAN model is developed by Sophia Hadash, who has been active in decision-making model development since 2017.\")"
   ],
   "metadata": {
    "collapsed": false,
    "pycharm": {
     "name": "#%%\n",
     "is_executing": false
    }
   }
  },
  {
   "cell_type": "markdown",
   "source": [
    "### Define data source\n",
    "Then we must add information on our data sources. In this example we only used one data source. This\n",
    "information is obtained from the [OpenML data wiki](https://www.openml.org/d/31)."
   ],
   "metadata": {
    "collapsed": false,
    "pycharm": {
     "name": "#%% md\n"
    }
   }
  },
  {
   "cell_type": "code",
   "execution_count": 150,
   "outputs": [],
   "source": [
    "argView.add_data_source(Source({\n",
    "\t\"name\": 'German Credit',\n",
    "\t\"author\": 'Dr. Hans Hofmann, Universität Hamburg, Institut für Statistik und Ökonometrie',\n",
    "\t\"description\": 'This dataset classifies people described by a set of attributes as good or bad credit risks.',\n",
    "\t\"href\": 'https://archive.ics.uci.edu/ml/datasets/statlog+(german+credit+data)',\n",
    "\t\"observations\": 1000,\n",
    "\t\"type\": 'static',\n",
    "\t\"year\": 1994,\n",
    "\t\"features\": dataset.feature_data.feature\n",
    "}))"
   ],
   "metadata": {
    "collapsed": false,
    "pycharm": {
     "name": "#%%\n",
     "is_executing": false
    }
   }
  },
  {
   "cell_type": "markdown",
   "source": [
    "### Define grounds\n",
    "The most important step is to define your grounds. The grounds specify how each feature potentially \n",
    "contributes to the varying decision classes. For each feature we must describe why/how it \n",
    "hypothetically contributes to the decision classes. We describe this in a 2D-list, where the outer list\n",
    "contains entries for each feature and the inner list contains an explanation for each decision-class.\n",
    "\n",
    "Furthermore, these explanations are tokenized by feature value. This allows the explanations to vary\n",
    "depending on both decision-class and feature value."
   ],
   "metadata": {
    "collapsed": false,
    "pycharm": {
     "name": "#%% md\n"
    }
   }
  },
  {
   "cell_type": "code",
   "execution_count": 151,
   "outputs": [],
   "source": [
    "argView.grounds([\n",
    "\t[\"You have a sufficient amount on your checking account.\",\n",
    "\t \"You have an insufficient amount on your checking account.\"],\n",
    "\t[\"We believe the duration of the credit is appropriate.\",\n",
    "\t \"We believe the duration of the credit is not appropriate.\"],\n",
    "\t[\"Your credit history gives us confidence in your capabilities.\",\n",
    "\t \"Your credit history does not give us confidence in your capabilities.\"],\n",
    "\t[\"We are interested in providing loans for <>.\",\n",
    "\t \"We are generally not interested in providing loans for <>.\"],\n",
    "\t[\"Your credit amount gives us confidence in your capabilities.\",\n",
    "\t \"Your credit amount does not give us sufficient confidence in your capabilities.\"],\n",
    "\t[\"Your savings give us confidence in your capabilities.\",\n",
    "\t \"Your savings do not give us confidence in your capabilities.\"],\n",
    "\t[\"The duration of your current employment gives us confidence in your capabilities.\",\n",
    "\t \"The duration of your current employment does not give us confidence in your capabilities.\"],\n",
    "\t[\"With the requested loan included, your installment rate is below the threshold.\",\n",
    "\t \"The requested loan would increase your EMI over the threshold.\"],\n",
    "\t[\"We have more confidence in providing loans to <> in general.\",\n",
    "\t \"We have less confidence in providing loans to <> in general.\"],\n",
    "\t[\"<> gives us confidence in your capabilities.\",\n",
    "\t \"<> does not give us sufficient confidence in your capabilities.\"],\n",
    "\t[\"The duration of your current residence gives us confidence in your capabilities.\",\n",
    "\t \"The duration of your current residence does not give us confidence in your capabilities.\"],\n",
    "\t[\"<> gives us confidence in your capabilities.\", \"<> does not give us confidence in your capabilities.\"],\n",
    "\t[\"Your age gives us confidence in your capabilities.\",\n",
    "\t \" Your age does not give us confidence in your capabilities.\"],\n",
    "\t[\"<> gives us confidence in your capabilities.\", \"<> does not give us confidence in your capabilities.\"],\n",
    "\t[\"Living in <> increases the confidence we have in your capabilities.\",\n",
    "\t \"Living in <> decreases the confidence we have in your capabilities.\"],\n",
    "\t[\"The amount of your credits gives us confidence in your capabilities.\",\n",
    "\t \"The amount of your credits does not give us confidence in your capabilities.\"],\n",
    "\t[\"Your current employment responsibilities supports our confidence in your capabilities.\",\n",
    "\t \"Your current employment responsibilities give us less confidence in your capabilities.\"],\n",
    "\t[\"The number of people that are liable to provide maintenance for gives us confidence in your capabilities.\",\n",
    "\t\"The number of people that are liable to provide maintenance for does not give us confidence in your capabilities.\"],\n",
    "\t[\"The <> telephone gives us confidence in your capabilities.\",\n",
    "\t \"The <> telephone does not give us confidence in your capabilities.\"],\n",
    "\t[\"Because you are <>a foreign worker, we have more confidence in your capabilities.\",\n",
    "\t \"Because you are <>a foreign worker, we have less confidence in your capabilities.\"],\n",
    "], [\n",
    "\t[],\n",
    "\t[],\n",
    "\t[],\n",
    "\t[\"the purpose of buying a new car\", \"the purpose of buying a used car\",\n",
    "\t \"the purpose of buying furniture or equipment\", \"the purpose of buying a radio or tv\",\n",
    "\t \"the purpose of buying domestic appliance\", \"the purpose of making repairs\",\n",
    "\t \"the purpose of gaining education\", \"the purpose of paying for vacation\", \"the purpose of retraining\",\n",
    "\t \"the purpose of investing in business\", \"unspecified purposes\"],\n",
    "\t[],\n",
    "\t[],\n",
    "\t[],\n",
    "\t[],\n",
    "\t[\"divorced or separated males\", \"females\", \"single males\", \"married or widowed males\", \"single females\"],\n",
    "\t[\"The lack of a co-applicant or guarantor\", \"Your co-applicant\", \"Your guarantor\"],\n",
    "\t[],\n",
    "\t[\"Your real-estate\", \"Your life insurance\", \"The fact that you own a car\", \"The absence of known property\"],\n",
    "\t[],\n",
    "\t[\"Your installment plan at a bank\", \"Your installment plan at a store\",\n",
    "\t \"Having no other installment plans\"],\n",
    "\t[\"rented housing\", \"owned housing\", \"free housing\"],\n",
    "\t[],\n",
    "\t[],\n",
    "\t[],\n",
    "\t[\"lack of ownership of a\", \"ownership of a\"],\n",
    "\t[\"\", \"not \"],\n",
    "])"
   ],
   "metadata": {
    "collapsed": false,
    "pycharm": {
     "name": "#%%\n",
     "is_executing": false
    }
   }
  },
  {
   "cell_type": "markdown",
   "source": [
    "## Generate explanation\n",
    "After the argueview explanation model is built, we are ready to generate our explanation."
   ],
   "metadata": {
    "collapsed": false,
    "pycharm": {
     "name": "#%% md\n"
    }
   }
  },
  {
   "cell_type": "code",
   "execution_count": 152,
   "outputs": [
    {
     "name": "stdout",
     "text": [
      "\n-- Explanation ---------------------------------------------------------------------------------------------------------------\n|  \u001b[1mclass: \u001b[0mYou are applicable for a loan.                                                                                     |\n|  \u001b[1mleading rationale: \u001b[0mBecause you are a foreign worker, we have more confidence in your capabilities.                        |\n|  \u001b[1mqualifier: \u001b[0mThe class 'You are applicable for a loan.' is 78% more certain than the other possible classes.                |\n|  \u001b[1mbacking: \u001b[0mThis decision is supported by Jheronimus Academy of Data Science, who have employed the automatic                |\n|  decision-making model RF-LOAN. This model is correct for 73% or the cases and is based on the German Credit dataset.      |\n|  This dataset is collected in 1994 by Dr. Hans Hofmann of Universität Hamburg, Institut für Statistik und Ökonometrie.     |\n|  The RF-LOAN model is developed by Sophia Hadash, who has been active in decision-making model development since 2017.     |\n------------------------------------------------------------------------------------------------------------------------------\n\n-- German Credit -------------------------------------------------------------------------\n|  foreign_worker         = yes                , contribution = 0.008882187240024896     |\n|  own_telephone          = none               , contribution = 0.008727685830413777     |\n|  personal_status        = male div/sep       , contribution = 0.002897104615674931     |\n|  num_dependents         = 1.0                , contribution = 0.0024848925376145217    |\n|  purpose                = radio/tv           , contribution = 0.0009332334715373589    |\n|  installment_commitment = 2.0                , contribution = 0.0005138745171460532    |\n|  job                    = unskilled resident , contribution = 0.00044595116195248716   |\n|  credit_history         = existing paid      , contribution = 0.00022194383471977838   |\n|  employment             = 4<=X<7             , contribution = 0.00021896187609516597   |\n|  other_payment_plans    = none               , contribution = 0.0                      |\n|  residence_since        = 4.0                , contribution = -0.00023532896149347057  |\n|  credit_amount          = 3059.0             , contribution = -0.0003316975882360024   |\n|  other_parties          = none               , contribution = -0.00044526192176829127  |\n|  duration               = 12.0               , contribution = -0.00044814965939281906  |\n|  age                    = 61.0               , contribution = -0.0012584249143038004   |\n|  existing_credits       = 1.0                , contribution = -0.0018331530821425845   |\n|  housing                = own                , contribution = -0.0030390422477126673   |\n|  property_magnitude     = real estate        , contribution = -0.03333787568541632     |\n|  savings_status         = >=1000             , contribution = -0.043599440999334285    |\n|  checking_status        = no checking        , contribution = -0.08429935479052521     |\n|  class                  = 0                  , contribution = None                     |\n------------------------------------------------------------------------------------------\n"
     ],
     "output_type": "stream"
    }
   ],
   "source": [
    "explanation = argView.generate(case, [feature_importance[1]])\n",
    "explanation.print()"
   ],
   "metadata": {
    "collapsed": false,
    "pycharm": {
     "name": "#%%\n",
     "is_executing": false
    }
   }
  }
 ],
 "metadata": {
  "kernelspec": {
   "name": "python3",
   "language": "python",
   "display_name": "Python 3"
  },
  "language_info": {
   "codemirror_mode": {
    "name": "ipython",
    "version": 2
   },
   "file_extension": ".py",
   "mimetype": "text/x-python",
   "name": "python",
   "nbconvert_exporter": "python",
   "pygments_lexer": "ipython2",
   "version": "2.7.6"
  },
  "pycharm": {
   "stem_cell": {
    "cell_type": "raw",
    "source": [],
    "metadata": {
     "collapsed": false
    }
   }
  }
 },
 "nbformat": 4,
 "nbformat_minor": 0
}
